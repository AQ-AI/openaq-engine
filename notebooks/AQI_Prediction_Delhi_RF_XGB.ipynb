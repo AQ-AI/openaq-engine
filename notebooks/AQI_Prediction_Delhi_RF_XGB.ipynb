{
  "nbformat": 4,
  "nbformat_minor": 0,
  "metadata": {
    "accelerator": "GPU",
    "colab": {
      "provenance": []
    },
    "kernelspec": {
      "display_name": "Python 3",
      "name": "python3"
    }
  },
  "cells": [
    {
      "cell_type": "code",
      "source": [
        "from google.colab import drive\n",
        "drive.mount('/content/drive')"
      ],
      "metadata": {
        "colab": {
          "base_uri": "https://localhost:8080/"
        },
        "id": "i73p4RSW7kVE",
        "outputId": "81dcfc7f-e0f4-4e72-c9be-755e26479d00"
      },
      "execution_count": null,
      "outputs": [
        {
          "output_type": "stream",
          "name": "stdout",
          "text": [
            "Mounted at /content/drive\n"
          ]
        }
      ]
    },
    {
      "cell_type": "code",
      "metadata": {
        "id": "hEoqwMN701pR"
      },
      "source": [
        "import pandas as pd\n",
        "import numpy as np\n",
        "import datetime as datetime"
      ],
      "execution_count": null,
      "outputs": []
    },
    {
      "cell_type": "code",
      "metadata": {
        "id": "SYaIuU5i3j6Y"
      },
      "source": [
        "from sklearn.pipeline import make_pipeline\n",
        "from sklearn.model_selection import train_test_split\n",
        "from sklearn.preprocessing import StandardScaler\n",
        "from sklearn.model_selection import train_test_split\n",
        "from sklearn.compose import make_column_transformer\n",
        "from sklearn.preprocessing import OneHotEncoder\n",
        "from sklearn.model_selection import KFold\n",
        "import matplotlib.pyplot as plt\n",
        "from sklearn.impute import SimpleImputer\n",
        "from sklearn.metrics import accuracy_score, f1_score\n",
        "from sklearn.model_selection import GridSearchCV\n"
      ],
      "execution_count": null,
      "outputs": []
    },
    {
      "cell_type": "code",
      "source": [
        "import seaborn as sns\n",
        "color = sns.color_palette()\n",
        "sns.set_style('darkgrid')\n",
        "import warnings\n",
        "def ignore_warn(*args, **kwargs):\n",
        "    pass\n",
        "warnings.warn = ignore_warn\n",
        "\n",
        "\n",
        "from scipy import stats\n",
        "from scipy.stats import norm, skew\n",
        "%matplotlib inline"
      ],
      "metadata": {
        "id": "qT9y4E51vs5o"
      },
      "execution_count": null,
      "outputs": []
    },
    {
      "cell_type": "code",
      "metadata": {
        "id": "b40HtmFQFVpz"
      },
      "source": [
        "df_final = pd.read_csv('/content/drive/MyDrive/train_nulls.csv')"
      ],
      "execution_count": null,
      "outputs": []
    },
    {
      "cell_type": "code",
      "source": [
        "df_final"
      ],
      "metadata": {
        "colab": {
          "base_uri": "https://localhost:8080/",
          "height": 661
        },
        "id": "E0VEW7sLPL_R",
        "outputId": "db97c1b7-606a-4fb2-a9c2-da9690312721"
      },
      "execution_count": null,
      "outputs": [
        {
          "output_type": "execute_result",
          "data": {
            "text/plain": [
              "            timestamp  Temperature  Humidity  feels_like  temp_min  temp_max  \\\n",
              "0       2019-03-13 22        17.25     70.20       17.08     17.54     19.00   \n",
              "1       2019-03-13 23        16.62     74.80       17.41     15.60     18.00   \n",
              "2       2019-03-14 00        15.88     81.30       15.44     16.64     17.12   \n",
              "3       2019-03-14 01        15.12     84.35       14.43     15.55     16.26   \n",
              "4       2019-03-14 02        14.70     84.72       14.73     13.60     16.00   \n",
              "...               ...          ...       ...         ...       ...       ...   \n",
              "146038  2020-07-31 13        35.42     52.03       39.09     31.00     34.30   \n",
              "146039  2020-07-31 14        36.42     49.95       39.39     31.00     34.20   \n",
              "146040  2020-07-31 15        37.98     46.73       40.62     32.43     33.14   \n",
              "146041  2020-07-31 16        36.42     50.62       40.79     32.84     34.00   \n",
              "146042  2020-07-31 17        34.20     58.55       38.42     31.00     33.40   \n",
              "\n",
              "        pressure  wind_speed  wind_deg  rain  ...  AOD_Uncertainty  Column_WV  \\\n",
              "0           1017        1.91       353   0.0  ...              NaN        NaN   \n",
              "1           1017        2.31       347   0.0  ...              NaN        NaN   \n",
              "2           1017        2.56       354   0.0  ...              NaN        NaN   \n",
              "3           1016        2.62         3   0.0  ...              NaN        NaN   \n",
              "4           1016        2.67         8   0.0  ...              NaN        NaN   \n",
              "...          ...         ...       ...   ...  ...              ...        ...   \n",
              "146038      1002        1.00        60   0.0  ...              NaN        NaN   \n",
              "146039      1001        1.50       140   0.0  ...              NaN        NaN   \n",
              "146040      1000        1.00        70   0.0  ...              NaN        NaN   \n",
              "146041      1000        1.00       120   0.0  ...              NaN        NaN   \n",
              "146042       999        2.10       140   0.0  ...              NaN        NaN   \n",
              "\n",
              "        Optical_Depth_047  Optical_Depth_055    month  \\\n",
              "0                     NaN                NaN  2019-03   \n",
              "1                     NaN                NaN  2019-03   \n",
              "2                     NaN                NaN  2019-03   \n",
              "3                     NaN                NaN  2019-03   \n",
              "4                     NaN                NaN  2019-03   \n",
              "...                   ...                ...      ...   \n",
              "146038                NaN                NaN  2020-07   \n",
              "146039                NaN                NaN  2020-07   \n",
              "146040                NaN                NaN  2020-07   \n",
              "146041                NaN                NaN  2020-07   \n",
              "146042                NaN                NaN  2020-07   \n",
              "\n",
              "                unique_id_month       B2       B3            B4  avg_rad  \n",
              "0          2019-03_28.5_77.2671  11474.5  10827.5  10445.000000      NaN  \n",
              "1          2019-03_28.5_77.2671  11474.5  10827.5  10445.000000      NaN  \n",
              "2          2019-03_28.5_77.2671  11474.5  10827.5  10445.000000      NaN  \n",
              "3          2019-03_28.5_77.2671  11474.5  10827.5  10445.000000      NaN  \n",
              "4          2019-03_28.5_77.2671  11474.5  10827.5  10445.000000      NaN  \n",
              "...                         ...      ...      ...           ...      ...  \n",
              "146038  2020-07_28.7757_77.0516  12831.0  11839.0  10835.666667    14.99  \n",
              "146039  2020-07_28.7757_77.0516  12831.0  11839.0  10835.666667    14.99  \n",
              "146040  2020-07_28.7757_77.0516  12831.0  11839.0  10835.666667    14.99  \n",
              "146041  2020-07_28.7757_77.0516  12831.0  11839.0  10835.666667    14.99  \n",
              "146042  2020-07_28.7757_77.0516  12831.0  11839.0  10835.666667    14.99  \n",
              "\n",
              "[146043 rows x 31 columns]"
            ],
            "text/html": [
              "\n",
              "  <div id=\"df-c410c1bb-b12b-4449-a790-d1c4ab51835b\">\n",
              "    <div class=\"colab-df-container\">\n",
              "      <div>\n",
              "<style scoped>\n",
              "    .dataframe tbody tr th:only-of-type {\n",
              "        vertical-align: middle;\n",
              "    }\n",
              "\n",
              "    .dataframe tbody tr th {\n",
              "        vertical-align: top;\n",
              "    }\n",
              "\n",
              "    .dataframe thead th {\n",
              "        text-align: right;\n",
              "    }\n",
              "</style>\n",
              "<table border=\"1\" class=\"dataframe\">\n",
              "  <thead>\n",
              "    <tr style=\"text-align: right;\">\n",
              "      <th></th>\n",
              "      <th>timestamp</th>\n",
              "      <th>Temperature</th>\n",
              "      <th>Humidity</th>\n",
              "      <th>feels_like</th>\n",
              "      <th>temp_min</th>\n",
              "      <th>temp_max</th>\n",
              "      <th>pressure</th>\n",
              "      <th>wind_speed</th>\n",
              "      <th>wind_deg</th>\n",
              "      <th>rain</th>\n",
              "      <th>...</th>\n",
              "      <th>AOD_Uncertainty</th>\n",
              "      <th>Column_WV</th>\n",
              "      <th>Optical_Depth_047</th>\n",
              "      <th>Optical_Depth_055</th>\n",
              "      <th>month</th>\n",
              "      <th>unique_id_month</th>\n",
              "      <th>B2</th>\n",
              "      <th>B3</th>\n",
              "      <th>B4</th>\n",
              "      <th>avg_rad</th>\n",
              "    </tr>\n",
              "  </thead>\n",
              "  <tbody>\n",
              "    <tr>\n",
              "      <th>0</th>\n",
              "      <td>2019-03-13 22</td>\n",
              "      <td>17.25</td>\n",
              "      <td>70.20</td>\n",
              "      <td>17.08</td>\n",
              "      <td>17.54</td>\n",
              "      <td>19.00</td>\n",
              "      <td>1017</td>\n",
              "      <td>1.91</td>\n",
              "      <td>353</td>\n",
              "      <td>0.0</td>\n",
              "      <td>...</td>\n",
              "      <td>NaN</td>\n",
              "      <td>NaN</td>\n",
              "      <td>NaN</td>\n",
              "      <td>NaN</td>\n",
              "      <td>2019-03</td>\n",
              "      <td>2019-03_28.5_77.2671</td>\n",
              "      <td>11474.5</td>\n",
              "      <td>10827.5</td>\n",
              "      <td>10445.000000</td>\n",
              "      <td>NaN</td>\n",
              "    </tr>\n",
              "    <tr>\n",
              "      <th>1</th>\n",
              "      <td>2019-03-13 23</td>\n",
              "      <td>16.62</td>\n",
              "      <td>74.80</td>\n",
              "      <td>17.41</td>\n",
              "      <td>15.60</td>\n",
              "      <td>18.00</td>\n",
              "      <td>1017</td>\n",
              "      <td>2.31</td>\n",
              "      <td>347</td>\n",
              "      <td>0.0</td>\n",
              "      <td>...</td>\n",
              "      <td>NaN</td>\n",
              "      <td>NaN</td>\n",
              "      <td>NaN</td>\n",
              "      <td>NaN</td>\n",
              "      <td>2019-03</td>\n",
              "      <td>2019-03_28.5_77.2671</td>\n",
              "      <td>11474.5</td>\n",
              "      <td>10827.5</td>\n",
              "      <td>10445.000000</td>\n",
              "      <td>NaN</td>\n",
              "    </tr>\n",
              "    <tr>\n",
              "      <th>2</th>\n",
              "      <td>2019-03-14 00</td>\n",
              "      <td>15.88</td>\n",
              "      <td>81.30</td>\n",
              "      <td>15.44</td>\n",
              "      <td>16.64</td>\n",
              "      <td>17.12</td>\n",
              "      <td>1017</td>\n",
              "      <td>2.56</td>\n",
              "      <td>354</td>\n",
              "      <td>0.0</td>\n",
              "      <td>...</td>\n",
              "      <td>NaN</td>\n",
              "      <td>NaN</td>\n",
              "      <td>NaN</td>\n",
              "      <td>NaN</td>\n",
              "      <td>2019-03</td>\n",
              "      <td>2019-03_28.5_77.2671</td>\n",
              "      <td>11474.5</td>\n",
              "      <td>10827.5</td>\n",
              "      <td>10445.000000</td>\n",
              "      <td>NaN</td>\n",
              "    </tr>\n",
              "    <tr>\n",
              "      <th>3</th>\n",
              "      <td>2019-03-14 01</td>\n",
              "      <td>15.12</td>\n",
              "      <td>84.35</td>\n",
              "      <td>14.43</td>\n",
              "      <td>15.55</td>\n",
              "      <td>16.26</td>\n",
              "      <td>1016</td>\n",
              "      <td>2.62</td>\n",
              "      <td>3</td>\n",
              "      <td>0.0</td>\n",
              "      <td>...</td>\n",
              "      <td>NaN</td>\n",
              "      <td>NaN</td>\n",
              "      <td>NaN</td>\n",
              "      <td>NaN</td>\n",
              "      <td>2019-03</td>\n",
              "      <td>2019-03_28.5_77.2671</td>\n",
              "      <td>11474.5</td>\n",
              "      <td>10827.5</td>\n",
              "      <td>10445.000000</td>\n",
              "      <td>NaN</td>\n",
              "    </tr>\n",
              "    <tr>\n",
              "      <th>4</th>\n",
              "      <td>2019-03-14 02</td>\n",
              "      <td>14.70</td>\n",
              "      <td>84.72</td>\n",
              "      <td>14.73</td>\n",
              "      <td>13.60</td>\n",
              "      <td>16.00</td>\n",
              "      <td>1016</td>\n",
              "      <td>2.67</td>\n",
              "      <td>8</td>\n",
              "      <td>0.0</td>\n",
              "      <td>...</td>\n",
              "      <td>NaN</td>\n",
              "      <td>NaN</td>\n",
              "      <td>NaN</td>\n",
              "      <td>NaN</td>\n",
              "      <td>2019-03</td>\n",
              "      <td>2019-03_28.5_77.2671</td>\n",
              "      <td>11474.5</td>\n",
              "      <td>10827.5</td>\n",
              "      <td>10445.000000</td>\n",
              "      <td>NaN</td>\n",
              "    </tr>\n",
              "    <tr>\n",
              "      <th>...</th>\n",
              "      <td>...</td>\n",
              "      <td>...</td>\n",
              "      <td>...</td>\n",
              "      <td>...</td>\n",
              "      <td>...</td>\n",
              "      <td>...</td>\n",
              "      <td>...</td>\n",
              "      <td>...</td>\n",
              "      <td>...</td>\n",
              "      <td>...</td>\n",
              "      <td>...</td>\n",
              "      <td>...</td>\n",
              "      <td>...</td>\n",
              "      <td>...</td>\n",
              "      <td>...</td>\n",
              "      <td>...</td>\n",
              "      <td>...</td>\n",
              "      <td>...</td>\n",
              "      <td>...</td>\n",
              "      <td>...</td>\n",
              "      <td>...</td>\n",
              "    </tr>\n",
              "    <tr>\n",
              "      <th>146038</th>\n",
              "      <td>2020-07-31 13</td>\n",
              "      <td>35.42</td>\n",
              "      <td>52.03</td>\n",
              "      <td>39.09</td>\n",
              "      <td>31.00</td>\n",
              "      <td>34.30</td>\n",
              "      <td>1002</td>\n",
              "      <td>1.00</td>\n",
              "      <td>60</td>\n",
              "      <td>0.0</td>\n",
              "      <td>...</td>\n",
              "      <td>NaN</td>\n",
              "      <td>NaN</td>\n",
              "      <td>NaN</td>\n",
              "      <td>NaN</td>\n",
              "      <td>2020-07</td>\n",
              "      <td>2020-07_28.7757_77.0516</td>\n",
              "      <td>12831.0</td>\n",
              "      <td>11839.0</td>\n",
              "      <td>10835.666667</td>\n",
              "      <td>14.99</td>\n",
              "    </tr>\n",
              "    <tr>\n",
              "      <th>146039</th>\n",
              "      <td>2020-07-31 14</td>\n",
              "      <td>36.42</td>\n",
              "      <td>49.95</td>\n",
              "      <td>39.39</td>\n",
              "      <td>31.00</td>\n",
              "      <td>34.20</td>\n",
              "      <td>1001</td>\n",
              "      <td>1.50</td>\n",
              "      <td>140</td>\n",
              "      <td>0.0</td>\n",
              "      <td>...</td>\n",
              "      <td>NaN</td>\n",
              "      <td>NaN</td>\n",
              "      <td>NaN</td>\n",
              "      <td>NaN</td>\n",
              "      <td>2020-07</td>\n",
              "      <td>2020-07_28.7757_77.0516</td>\n",
              "      <td>12831.0</td>\n",
              "      <td>11839.0</td>\n",
              "      <td>10835.666667</td>\n",
              "      <td>14.99</td>\n",
              "    </tr>\n",
              "    <tr>\n",
              "      <th>146040</th>\n",
              "      <td>2020-07-31 15</td>\n",
              "      <td>37.98</td>\n",
              "      <td>46.73</td>\n",
              "      <td>40.62</td>\n",
              "      <td>32.43</td>\n",
              "      <td>33.14</td>\n",
              "      <td>1000</td>\n",
              "      <td>1.00</td>\n",
              "      <td>70</td>\n",
              "      <td>0.0</td>\n",
              "      <td>...</td>\n",
              "      <td>NaN</td>\n",
              "      <td>NaN</td>\n",
              "      <td>NaN</td>\n",
              "      <td>NaN</td>\n",
              "      <td>2020-07</td>\n",
              "      <td>2020-07_28.7757_77.0516</td>\n",
              "      <td>12831.0</td>\n",
              "      <td>11839.0</td>\n",
              "      <td>10835.666667</td>\n",
              "      <td>14.99</td>\n",
              "    </tr>\n",
              "    <tr>\n",
              "      <th>146041</th>\n",
              "      <td>2020-07-31 16</td>\n",
              "      <td>36.42</td>\n",
              "      <td>50.62</td>\n",
              "      <td>40.79</td>\n",
              "      <td>32.84</td>\n",
              "      <td>34.00</td>\n",
              "      <td>1000</td>\n",
              "      <td>1.00</td>\n",
              "      <td>120</td>\n",
              "      <td>0.0</td>\n",
              "      <td>...</td>\n",
              "      <td>NaN</td>\n",
              "      <td>NaN</td>\n",
              "      <td>NaN</td>\n",
              "      <td>NaN</td>\n",
              "      <td>2020-07</td>\n",
              "      <td>2020-07_28.7757_77.0516</td>\n",
              "      <td>12831.0</td>\n",
              "      <td>11839.0</td>\n",
              "      <td>10835.666667</td>\n",
              "      <td>14.99</td>\n",
              "    </tr>\n",
              "    <tr>\n",
              "      <th>146042</th>\n",
              "      <td>2020-07-31 17</td>\n",
              "      <td>34.20</td>\n",
              "      <td>58.55</td>\n",
              "      <td>38.42</td>\n",
              "      <td>31.00</td>\n",
              "      <td>33.40</td>\n",
              "      <td>999</td>\n",
              "      <td>2.10</td>\n",
              "      <td>140</td>\n",
              "      <td>0.0</td>\n",
              "      <td>...</td>\n",
              "      <td>NaN</td>\n",
              "      <td>NaN</td>\n",
              "      <td>NaN</td>\n",
              "      <td>NaN</td>\n",
              "      <td>2020-07</td>\n",
              "      <td>2020-07_28.7757_77.0516</td>\n",
              "      <td>12831.0</td>\n",
              "      <td>11839.0</td>\n",
              "      <td>10835.666667</td>\n",
              "      <td>14.99</td>\n",
              "    </tr>\n",
              "  </tbody>\n",
              "</table>\n",
              "<p>146043 rows × 31 columns</p>\n",
              "</div>\n",
              "      <button class=\"colab-df-convert\" onclick=\"convertToInteractive('df-c410c1bb-b12b-4449-a790-d1c4ab51835b')\"\n",
              "              title=\"Convert this dataframe to an interactive table.\"\n",
              "              style=\"display:none;\">\n",
              "        \n",
              "  <svg xmlns=\"http://www.w3.org/2000/svg\" height=\"24px\"viewBox=\"0 0 24 24\"\n",
              "       width=\"24px\">\n",
              "    <path d=\"M0 0h24v24H0V0z\" fill=\"none\"/>\n",
              "    <path d=\"M18.56 5.44l.94 2.06.94-2.06 2.06-.94-2.06-.94-.94-2.06-.94 2.06-2.06.94zm-11 1L8.5 8.5l.94-2.06 2.06-.94-2.06-.94L8.5 2.5l-.94 2.06-2.06.94zm10 10l.94 2.06.94-2.06 2.06-.94-2.06-.94-.94-2.06-.94 2.06-2.06.94z\"/><path d=\"M17.41 7.96l-1.37-1.37c-.4-.4-.92-.59-1.43-.59-.52 0-1.04.2-1.43.59L10.3 9.45l-7.72 7.72c-.78.78-.78 2.05 0 2.83L4 21.41c.39.39.9.59 1.41.59.51 0 1.02-.2 1.41-.59l7.78-7.78 2.81-2.81c.8-.78.8-2.07 0-2.86zM5.41 20L4 18.59l7.72-7.72 1.47 1.35L5.41 20z\"/>\n",
              "  </svg>\n",
              "      </button>\n",
              "      \n",
              "  <style>\n",
              "    .colab-df-container {\n",
              "      display:flex;\n",
              "      flex-wrap:wrap;\n",
              "      gap: 12px;\n",
              "    }\n",
              "\n",
              "    .colab-df-convert {\n",
              "      background-color: #E8F0FE;\n",
              "      border: none;\n",
              "      border-radius: 50%;\n",
              "      cursor: pointer;\n",
              "      display: none;\n",
              "      fill: #1967D2;\n",
              "      height: 32px;\n",
              "      padding: 0 0 0 0;\n",
              "      width: 32px;\n",
              "    }\n",
              "\n",
              "    .colab-df-convert:hover {\n",
              "      background-color: #E2EBFA;\n",
              "      box-shadow: 0px 1px 2px rgba(60, 64, 67, 0.3), 0px 1px 3px 1px rgba(60, 64, 67, 0.15);\n",
              "      fill: #174EA6;\n",
              "    }\n",
              "\n",
              "    [theme=dark] .colab-df-convert {\n",
              "      background-color: #3B4455;\n",
              "      fill: #D2E3FC;\n",
              "    }\n",
              "\n",
              "    [theme=dark] .colab-df-convert:hover {\n",
              "      background-color: #434B5C;\n",
              "      box-shadow: 0px 1px 3px 1px rgba(0, 0, 0, 0.15);\n",
              "      filter: drop-shadow(0px 1px 2px rgba(0, 0, 0, 0.3));\n",
              "      fill: #FFFFFF;\n",
              "    }\n",
              "  </style>\n",
              "\n",
              "      <script>\n",
              "        const buttonEl =\n",
              "          document.querySelector('#df-c410c1bb-b12b-4449-a790-d1c4ab51835b button.colab-df-convert');\n",
              "        buttonEl.style.display =\n",
              "          google.colab.kernel.accessAllowed ? 'block' : 'none';\n",
              "\n",
              "        async function convertToInteractive(key) {\n",
              "          const element = document.querySelector('#df-c410c1bb-b12b-4449-a790-d1c4ab51835b');\n",
              "          const dataTable =\n",
              "            await google.colab.kernel.invokeFunction('convertToInteractive',\n",
              "                                                     [key], {});\n",
              "          if (!dataTable) return;\n",
              "\n",
              "          const docLinkHtml = 'Like what you see? Visit the ' +\n",
              "            '<a target=\"_blank\" href=https://colab.research.google.com/notebooks/data_table.ipynb>data table notebook</a>'\n",
              "            + ' to learn more about interactive tables.';\n",
              "          element.innerHTML = '';\n",
              "          dataTable['output_type'] = 'display_data';\n",
              "          await google.colab.output.renderOutput(dataTable, element);\n",
              "          const docLink = document.createElement('div');\n",
              "          docLink.innerHTML = docLinkHtml;\n",
              "          element.appendChild(docLink);\n",
              "        }\n",
              "      </script>\n",
              "    </div>\n",
              "  </div>\n",
              "  "
            ]
          },
          "metadata": {},
          "execution_count": 42
        }
      ]
    },
    {
      "cell_type": "code",
      "metadata": {
        "id": "jdOwsTXee5uT",
        "outputId": "cc00d43e-1ea8-4b29-bd92-908ef0342021",
        "colab": {
          "base_uri": "https://localhost:8080/"
        }
      },
      "source": [
        "df_final.columns"
      ],
      "execution_count": null,
      "outputs": [
        {
          "output_type": "execute_result",
          "data": {
            "text/plain": [
              "Index(['timestamp', 'Temperature', 'Humidity', 'feels_like', 'temp_min',\n",
              "       'temp_max', 'pressure', 'wind_speed', 'wind_deg', 'rain', 'clouds_all',\n",
              "       'weather', 'AQI', 'longitude', 'latitude', 'datetime',\n",
              "       'unique_id_datetime', 'NO2_density', 'Unnamed: 0', 'cloud_fraction',\n",
              "       'time', 'AOD_Uncertainty', 'Column_WV', 'Optical_Depth_047',\n",
              "       'Optical_Depth_055', 'month', 'unique_id_month', 'B2', 'B3', 'B4',\n",
              "       'avg_rad'],\n",
              "      dtype='object')"
            ]
          },
          "metadata": {},
          "execution_count": 43
        }
      ]
    },
    {
      "cell_type": "code",
      "metadata": {
        "id": "eifn0pZLfCwS"
      },
      "source": [
        "drop_col = ['timestamp',\n",
        "       'unique_id_datetime', 'Unnamed: 0',  'time',  'unique_id_month']"
      ],
      "execution_count": null,
      "outputs": []
    },
    {
      "cell_type": "code",
      "metadata": {
        "id": "cYjP5dCUgdoN",
        "colab": {
          "base_uri": "https://localhost:8080/"
        },
        "outputId": "bab0b0da-353e-499c-8b7c-81fba8d7e91d"
      },
      "source": [
        "df_final.columns"
      ],
      "execution_count": null,
      "outputs": [
        {
          "output_type": "execute_result",
          "data": {
            "text/plain": [
              "Index(['timestamp', 'Temperature', 'Humidity', 'feels_like', 'temp_min',\n",
              "       'temp_max', 'pressure', 'wind_speed', 'wind_deg', 'rain', 'clouds_all',\n",
              "       'weather', 'AQI', 'longitude', 'latitude', 'datetime',\n",
              "       'unique_id_datetime', 'NO2_density', 'Unnamed: 0', 'cloud_fraction',\n",
              "       'time', 'AOD_Uncertainty', 'Column_WV', 'Optical_Depth_047',\n",
              "       'Optical_Depth_055', 'month', 'unique_id_month', 'B2', 'B3', 'B4',\n",
              "       'avg_rad'],\n",
              "      dtype='object')"
            ]
          },
          "metadata": {},
          "execution_count": 45
        }
      ]
    },
    {
      "cell_type": "code",
      "metadata": {
        "id": "9HOounr3GHBC",
        "outputId": "847cacff-c36f-41d4-a34d-4c02b5f82b4b",
        "colab": {
          "base_uri": "https://localhost:8080/"
        }
      },
      "source": [
        "# df_final[df_final['NO2'].isna()==True]\n",
        "len(df_final)"
      ],
      "execution_count": null,
      "outputs": [
        {
          "output_type": "execute_result",
          "data": {
            "text/plain": [
              "146043"
            ]
          },
          "metadata": {},
          "execution_count": 46
        }
      ]
    },
    {
      "cell_type": "code",
      "metadata": {
        "id": "BGpwXvjVGHL4"
      },
      "source": [
        "# dff = df_final.dropna()\n",
        "dff = df_final"
      ],
      "execution_count": null,
      "outputs": []
    },
    {
      "cell_type": "code",
      "metadata": {
        "id": "FisBysOqiR1j",
        "outputId": "1112f370-53a2-4fa6-b8d8-95d32ef502e0",
        "colab": {
          "base_uri": "https://localhost:8080/"
        }
      },
      "source": [
        "print(dff.columns)\n",
        "len(dff)"
      ],
      "execution_count": null,
      "outputs": [
        {
          "output_type": "stream",
          "name": "stdout",
          "text": [
            "Index(['timestamp', 'Temperature', 'Humidity', 'feels_like', 'temp_min',\n",
            "       'temp_max', 'pressure', 'wind_speed', 'wind_deg', 'rain', 'clouds_all',\n",
            "       'weather', 'AQI', 'longitude', 'latitude', 'datetime',\n",
            "       'unique_id_datetime', 'NO2_density', 'Unnamed: 0', 'cloud_fraction',\n",
            "       'time', 'AOD_Uncertainty', 'Column_WV', 'Optical_Depth_047',\n",
            "       'Optical_Depth_055', 'month', 'unique_id_month', 'B2', 'B3', 'B4',\n",
            "       'avg_rad'],\n",
            "      dtype='object')\n"
          ]
        },
        {
          "output_type": "execute_result",
          "data": {
            "text/plain": [
              "146043"
            ]
          },
          "metadata": {},
          "execution_count": 48
        }
      ]
    },
    {
      "cell_type": "code",
      "metadata": {
        "id": "HSTD7w90GHfl"
      },
      "source": [
        "# df_final = df_final.fillna(0)"
      ],
      "execution_count": null,
      "outputs": []
    },
    {
      "cell_type": "code",
      "metadata": {
        "id": "ce90R9GE3nJj"
      },
      "source": [
        "y = dff[['AQI']]\n",
        "X = dff[['Temperature', 'Humidity', 'feels_like', 'temp_min', 'temp_max',\n",
        "       'pressure', 'wind_speed', 'wind_deg', 'rain', 'clouds_all', 'weather',\n",
        "        'longitude', 'latitude', 'NO2_density',\n",
        "       'cloud_fraction', 'AOD_Uncertainty', 'Column_WV', 'Optical_Depth_047',\n",
        "       'Optical_Depth_055', 'B2', 'B3', 'B4', 'avg_rad']]"
      ],
      "execution_count": null,
      "outputs": []
    },
    {
      "cell_type": "code",
      "metadata": {
        "id": "OUOzn4aqTjkR"
      },
      "source": [],
      "execution_count": null,
      "outputs": []
    },
    {
      "cell_type": "code",
      "source": [],
      "metadata": {
        "id": "7XlWlNGYd9Mg"
      },
      "execution_count": null,
      "outputs": []
    },
    {
      "cell_type": "code",
      "source": [
        "from sklearn.pipeline import Pipeline\n"
      ],
      "metadata": {
        "id": "PiRrdfKnhDy2"
      },
      "execution_count": null,
      "outputs": []
    },
    {
      "cell_type": "code",
      "source": [
        "numeric_pipeline = Pipeline(\n",
        "                    steps= [(\"impute\", SimpleImputer(strategy=\"mean\"))])"
      ],
      "metadata": {
        "id": "WIWSu6utdS6X"
      },
      "execution_count": null,
      "outputs": []
    },
    {
      "cell_type": "code",
      "source": [
        "from sklearn.compose import ColumnTransformer\n",
        "\n",
        "num_cols = ['Temperature', 'Humidity', 'feels_like', 'temp_min', 'temp_max',\n",
        "       'pressure', 'wind_speed', 'wind_deg', 'rain', 'clouds_all', 'weather',\n",
        "        'longitude', 'latitude', 'NO2_density',\n",
        "       'cloud_fraction', 'AOD_Uncertainty', 'Column_WV', 'Optical_Depth_047',\n",
        "       'Optical_Depth_055', 'B2', 'B3', 'B4', 'avg_rad']\n",
        "\n",
        "full_processor = ColumnTransformer(\n",
        "    transformers=[\n",
        "        (\"numeric\", numeric_pipeline, num_cols)\n",
        "    ]\n",
        ")"
      ],
      "metadata": {
        "id": "Ur8Belf_gE9U"
      },
      "execution_count": null,
      "outputs": []
    },
    {
      "cell_type": "code",
      "source": [
        "X = full_processor.fit_transform(X)\n",
        "print(X)"
      ],
      "metadata": {
        "id": "07zeZuj4cwnU",
        "colab": {
          "base_uri": "https://localhost:8080/"
        },
        "outputId": "d70b55ee-fc18-44e8-8b3f-d9a385abded2"
      },
      "execution_count": null,
      "outputs": [
        {
          "output_type": "stream",
          "name": "stdout",
          "text": [
            "[[   17.25          70.2           17.08       ... 10827.5\n",
            "  10445.            37.86122452]\n",
            " [   16.62          74.8           17.41       ... 10827.5\n",
            "  10445.            37.86122452]\n",
            " [   15.88          81.3           15.44       ... 10827.5\n",
            "  10445.            37.86122452]\n",
            " ...\n",
            " [   37.98          46.73          40.62       ... 11839.\n",
            "  10835.66666667    14.98999977]\n",
            " [   36.42          50.62          40.79       ... 11839.\n",
            "  10835.66666667    14.98999977]\n",
            " [   34.2           58.55          38.42       ... 11839.\n",
            "  10835.66666667    14.98999977]]\n"
          ]
        }
      ]
    },
    {
      "cell_type": "code",
      "source": [
        "\n",
        "scaler = StandardScaler()\n",
        "# transform data\n",
        "X = scaler.fit_transform(X)\n",
        "print(X)\n"
      ],
      "metadata": {
        "colab": {
          "base_uri": "https://localhost:8080/"
        },
        "id": "emcYjg_OmHpP",
        "outputId": "1941e014-6f99-4d72-9dfe-543df42677cd"
      },
      "execution_count": null,
      "outputs": [
        {
          "output_type": "stream",
          "name": "stdout",
          "text": [
            "[[-1.06779378  0.53225405 -1.14522073 ... -0.72894702 -0.75980213\n",
            "   0.        ]\n",
            " [-1.14030163  0.73352971 -1.11166305 ... -0.72894702 -0.75980213\n",
            "   0.        ]\n",
            " [-1.22546958  1.01794097 -1.31199228 ... -0.72894702 -0.75980213\n",
            "   0.        ]\n",
            " ...\n",
            " [ 1.31805971 -0.49468936  1.24856113 ... -0.42314683 -0.64550451\n",
            "  -2.38121382]\n",
            " [ 1.13851647 -0.32448016  1.26584843 ... -0.42314683 -0.64550451\n",
            "  -2.38121382]\n",
            " [ 0.88301262  0.02250157  1.0248432  ... -0.42314683 -0.64550451\n",
            "  -2.38121382]]\n"
          ]
        }
      ]
    },
    {
      "cell_type": "code",
      "source": [
        "print(X)"
      ],
      "metadata": {
        "colab": {
          "base_uri": "https://localhost:8080/"
        },
        "id": "AQkxKHskBS54",
        "outputId": "8794d62b-cc95-464d-87ad-e249399e8d22"
      },
      "execution_count": null,
      "outputs": [
        {
          "output_type": "stream",
          "name": "stdout",
          "text": [
            "[[-1.06779378  0.53225405 -1.14522073 ... -0.72894702 -0.75980213\n",
            "   0.        ]\n",
            " [-1.14030163  0.73352971 -1.11166305 ... -0.72894702 -0.75980213\n",
            "   0.        ]\n",
            " [-1.22546958  1.01794097 -1.31199228 ... -0.72894702 -0.75980213\n",
            "   0.        ]\n",
            " ...\n",
            " [ 1.31805971 -0.49468936  1.24856113 ... -0.42314683 -0.64550451\n",
            "  -2.38121382]\n",
            " [ 1.13851647 -0.32448016  1.26584843 ... -0.42314683 -0.64550451\n",
            "  -2.38121382]\n",
            " [ 0.88301262  0.02250157  1.0248432  ... -0.42314683 -0.64550451\n",
            "  -2.38121382]]\n"
          ]
        }
      ]
    },
    {
      "cell_type": "code",
      "metadata": {
        "id": "mOm5Mx_F3qhs"
      },
      "source": [
        "X_train, X_test, y_train, y_test = train_test_split(X, y, \n",
        "                                    test_size=0.30, random_state=20)"
      ],
      "execution_count": null,
      "outputs": []
    },
    {
      "cell_type": "code",
      "metadata": {
        "id": "ScOLlEurXRyJ",
        "outputId": "2817ecc7-97ef-4c3c-ed2a-c03e21d0ed3d",
        "colab": {
          "base_uri": "https://localhost:8080/"
        }
      },
      "source": [
        "print(X_train.shape)\n",
        "print(y_train.shape)\n",
        "print(X_test.shape)\n",
        "print(y_test.shape)"
      ],
      "execution_count": null,
      "outputs": [
        {
          "output_type": "stream",
          "name": "stdout",
          "text": [
            "(102230, 23)\n",
            "(102230, 1)\n",
            "(43813, 23)\n",
            "(43813, 1)\n"
          ]
        }
      ]
    },
    {
      "cell_type": "code",
      "metadata": {
        "id": "dKKowmPmpN4F",
        "outputId": "e8d40bad-ad82-4b4f-dae8-57660e1a86bc",
        "colab": {
          "base_uri": "https://localhost:8080/",
          "height": 349
        }
      },
      "source": [
        "# New addition\n",
        "sns.distplot(y_train['AQI'] , fit=norm);\n",
        "\n",
        "# Get the fitted parameters used by the function\n",
        "(mu, sigma) = norm.fit(y_train['AQI'])\n",
        "print( '\\n mu = {:.2f} and sigma = {:.2f}\\n'.format(mu, sigma))\n",
        "\n",
        "#Now plot the distribution\n",
        "plt.legend(['Normal dist. ($\\mu=$ {:.2f} and $\\sigma=$ {:.2f} )'.format(mu, sigma)],\n",
        "            loc='best')\n",
        "plt.ylabel('Frequency')\n",
        "plt.title('AQI distribution')\n",
        "\n",
        "#Get also the QQ-plot\n",
        "# fig = plt.figure()\n",
        "# res = stats.probplot(y_train['AQI'], plot=plt)\n",
        "plt.show()"
      ],
      "execution_count": null,
      "outputs": [
        {
          "output_type": "stream",
          "name": "stdout",
          "text": [
            "\n",
            " mu = 3.05 and sigma = 1.67\n",
            "\n"
          ]
        },
        {
          "output_type": "display_data",
          "data": {
            "text/plain": [
              "<Figure size 432x288 with 1 Axes>"
            ],
            "image/png": "[encoded data removed]"
          },
          "metadata": {
            "needs_background": "light"
          }
        }
      ]
    },
    {
      "cell_type": "code",
      "metadata": {
        "id": "JuRYszaCrf_1",
        "outputId": "9f408f6b-c0c8-4acc-9044-b26b2b3107cd",
        "colab": {
          "base_uri": "https://localhost:8080/",
          "height": 640
        }
      },
      "source": [
        "#Correlation map to see how features are correlated\n",
        "corrmat = pd.DataFrame(X_train, columns = num_cols).corr()\n",
        "plt.subplots(figsize=(12,9))\n",
        "sns.heatmap(corrmat, vmax=0.9, square=True)"
      ],
      "execution_count": null,
      "outputs": [
        {
          "output_type": "execute_result",
          "data": {
            "text/plain": [
              "<matplotlib.axes._subplots.AxesSubplot at 0x7f0b29199b90>"
            ]
          },
          "metadata": {},
          "execution_count": 62
        },
        {
          "output_type": "display_data",
          "data": {
            "text/plain": [
              "<Figure size 864x648 with 2 Axes>"
            ],
            "image/png": "[encoded data removed]"
          },
          "metadata": {
            "needs_background": "light"
          }
        }
      ]
    },
    {
      "cell_type": "code",
      "metadata": {
        "id": "u4T2Ncu_sFQB"
      },
      "source": [
        "from sklearn.linear_model import ElasticNet, Lasso,  BayesianRidge, LassoLarsIC\n",
        "from sklearn.ensemble import RandomForestRegressor,  GradientBoostingClassifier\n",
        "from sklearn.kernel_ridge import KernelRidge\n",
        "from sklearn.pipeline import make_pipeline\n",
        "from sklearn.preprocessing import RobustScaler\n",
        "from sklearn.base import BaseEstimator, TransformerMixin, RegressorMixin, clone\n",
        "from sklearn.model_selection import KFold, cross_val_score, train_test_split\n",
        "from sklearn.metrics import mean_squared_error\n",
        "import xgboost as xgb\n",
        "import lightgbm as lgb"
      ],
      "execution_count": null,
      "outputs": []
    },
    {
      "cell_type": "code",
      "source": [
        "n_folds = 5\n",
        "\n",
        "def acc_cv(model):\n",
        "    kf = KFold(n_folds, shuffle=True, random_state=42).get_n_splits(X_train.ravel())\n",
        "    acc= np.sqrt(-cross_val_score(model, X_train.ravel(), y_train, scoring=[\"precision\",\"recall\"], cv = kf))\n",
        "    return(acc)"
      ],
      "metadata": {
        "id": "H_7c4unks1PP"
      },
      "execution_count": null,
      "outputs": []
    },
    {
      "cell_type": "code",
      "source": [
        "import matplotlib.pyplot as plt\n",
        "from sklearn.metrics import accuracy_score, f1_score\n",
        "from sklearn.model_selection import GridSearchCV\n",
        "#store data, all in numpy arrays\n",
        "training_data = {'X_train':X_train,'y_train':y_train,\n",
        "                'X_test': X_test,'y_test':y_test}"
      ],
      "metadata": {
        "id": "C8A1gGjSDUNA"
      },
      "execution_count": null,
      "outputs": []
    },
    {
      "cell_type": "code",
      "source": [
        "##RF Baseline\n",
        "from sklearn.ensemble import RandomForestClassifier\n",
        "\n",
        "clf = RandomForestClassifier(n_jobs=None,random_state=24,\n",
        "                       verbose=1)\n",
        "clf.fit(training_data['X_train'], training_data['y_train'])"
      ],
      "metadata": {
        "colab": {
          "base_uri": "https://localhost:8080/"
        },
        "id": "1nctqlXRDHjq",
        "outputId": "505f2acf-aa8e-41e2-e0ef-86baf09f69e7"
      },
      "execution_count": null,
      "outputs": [
        {
          "output_type": "stream",
          "name": "stderr",
          "text": [
            "[Parallel(n_jobs=1)]: Using backend SequentialBackend with 1 concurrent workers.\n",
            "[Parallel(n_jobs=1)]: Done 100 out of 100 | elapsed:   30.6s finished\n"
          ]
        },
        {
          "output_type": "execute_result",
          "data": {
            "text/plain": [
              "RandomForestClassifier(random_state=24, verbose=1)"
            ]
          },
          "metadata": {},
          "execution_count": 73
        }
      ]
    },
    {
      "cell_type": "code",
      "source": [
        "predicted_labels = clf.predict(training_data['X_test'])\n"
      ],
      "metadata": {
        "colab": {
          "base_uri": "https://localhost:8080/"
        },
        "id": "xsR0Ua5MD4rn",
        "outputId": "cd2f152b-9840-474f-f423-68086eab68f4"
      },
      "execution_count": null,
      "outputs": [
        {
          "output_type": "stream",
          "name": "stderr",
          "text": [
            "[Parallel(n_jobs=1)]: Using backend SequentialBackend with 1 concurrent workers.\n",
            "[Parallel(n_jobs=1)]: Done 100 out of 100 | elapsed:    2.0s finished\n"
          ]
        }
      ]
    },
    {
      "cell_type": "code",
      "source": [
        "accuracy_score(training_data['y_test'], predicted_labels)\n"
      ],
      "metadata": {
        "colab": {
          "base_uri": "https://localhost:8080/"
        },
        "id": "_dn9Bj5ID_RJ",
        "outputId": "3d5b2776-54e6-4392-8eef-b0b296c7da45"
      },
      "execution_count": null,
      "outputs": [
        {
          "output_type": "execute_result",
          "data": {
            "text/plain": [
              "0.7052016524775752"
            ]
          },
          "metadata": {},
          "execution_count": 75
        }
      ]
    },
    {
      "cell_type": "code",
      "source": [
        "pred_test = clf.predict(X_test)\n",
        "pred_train = clf.predict(X_train)\n",
        "print('Train Accuracy: ', accuracy_score(y_train, pred_train))\n",
        "print('Test Accuraccy: ', accuracy_score(y_test, pred_test))\n"
      ],
      "metadata": {
        "colab": {
          "base_uri": "https://localhost:8080/"
        },
        "id": "t5AP7wtjxlBp",
        "outputId": "16c139f3-42a9-47f9-fe23-556b81bb1cdf"
      },
      "execution_count": null,
      "outputs": [
        {
          "output_type": "stream",
          "name": "stderr",
          "text": [
            "[Parallel(n_jobs=1)]: Using backend SequentialBackend with 1 concurrent workers.\n",
            "[Parallel(n_jobs=1)]: Done 100 out of 100 | elapsed:    3.3s finished\n",
            "[Parallel(n_jobs=1)]: Using backend SequentialBackend with 1 concurrent workers.\n"
          ]
        },
        {
          "output_type": "stream",
          "name": "stdout",
          "text": [
            "Train Accuracy:  1.0\n",
            "Test Accuraccy:  0.7052016524775752\n"
          ]
        },
        {
          "output_type": "stream",
          "name": "stderr",
          "text": [
            "[Parallel(n_jobs=1)]: Done 100 out of 100 | elapsed:    4.8s finished\n"
          ]
        }
      ]
    },
    {
      "cell_type": "code",
      "source": [
        "from sklearn.metrics import classification_report\n",
        "print('Classification Report:')\n",
        "print(classification_report(y_test,pred_test))"
      ],
      "metadata": {
        "colab": {
          "base_uri": "https://localhost:8080/"
        },
        "id": "NGxHbqSBxqcG",
        "outputId": "e285b3df-d10f-42a7-9a94-3f32e218d29f"
      },
      "execution_count": null,
      "outputs": [
        {
          "output_type": "stream",
          "name": "stdout",
          "text": [
            "Classification Report:\n",
            "              precision    recall  f1-score   support\n",
            "\n",
            "           1       0.79      0.78      0.78      8801\n",
            "           2       0.67      0.78      0.72     12539\n",
            "           3       0.59      0.52      0.55      6666\n",
            "           4       0.54      0.36      0.43      3968\n",
            "           5       0.72      0.79      0.75      6907\n",
            "           6       0.90      0.78      0.83      4932\n",
            "\n",
            "    accuracy                           0.71     43813\n",
            "   macro avg       0.70      0.67      0.68     43813\n",
            "weighted avg       0.70      0.71      0.70     43813\n",
            "\n"
          ]
        }
      ]
    },
    {
      "cell_type": "code",
      "source": [
        "##takes forever to run\n",
        "\n",
        "params = {\n",
        "    'n_estimators'      : range(100,500,50),\n",
        "    'max_depth'         : [8, 9, 10, 11, 12],\n",
        "    'max_features': ['auto'],\n",
        "    'criterion' :['gini']\n",
        "}\n",
        "#metrics to consider: f1_micro, f1_macro, roc_auc_ovr\n",
        "gsearch1 = GridSearchCV(estimator = clf, param_grid = params, scoring='f1_micro',n_jobs=-1,verbose = 10, cv=5)\n",
        "gsearch1.fit(training_data['X_train'], training_data['y_train'])"
      ],
      "metadata": {
        "id": "mepbLQQyEFHy"
      },
      "execution_count": null,
      "outputs": []
    },
    {
      "cell_type": "code",
      "source": [],
      "metadata": {
        "id": "ukzcmgFHxppI"
      },
      "execution_count": null,
      "outputs": []
    },
    {
      "cell_type": "code",
      "source": [
        "getTrainScores(gsearch1)\n"
      ],
      "metadata": {
        "id": "f8jIpY_fEP_h"
      },
      "execution_count": null,
      "outputs": []
    },
    {
      "cell_type": "code",
      "source": [
        "import xgboost as xgb\n",
        "import matplotlib.pyplot as plt\n",
        "\n",
        "#allow logloss and classification error plots for each iteraetion of xgb model\n",
        "def plot_compare(metrics,eval_results,epochs):\n",
        "    for m in metrics:\n",
        "        train_score = eval_results['train'][m]\n",
        "        rang = range(0, epochs)\n",
        "        plt.rcParams[\"figure.figsize\"] = [6,6]\n",
        "        plt.plot(rang, train_score,\"orange\", label=\"Train\")\n",
        "        title_name = m + \" plot\"\n",
        "        plt.title(title_name)\n",
        "        plt.xlabel('Iterations')\n",
        "        plt.ylabel(m)\n",
        "        lgd = plt.legend()\n",
        "        plt.show()\n",
        "        \n",
        "def fitXgb(sk_model, training_data=training_data,epochs=300):\n",
        "    print('Fitting model...')\n",
        "    sk_model.fit(training_data['X_train'], training_data['y_train'])\n",
        "    print('Fitting done!')\n",
        "    train = xgb.DMatrix(training_data['X_train'], label=training_data['y_train'])\n",
        "    # val = xgb.DMatrix(training_data['X_val'], label=training_data['y_val'])\n",
        "    params = sk_model.get_xgb_params()\n",
        "    metrics = ['mlogloss','merror']\n",
        "    params['eval_metric'] = metrics\n",
        "    store = {}\n",
        "    evallist = [(train,'train')]\n",
        "    xgb_model = xgb.train(params, train, epochs, evallist,evals_result=store,verbose_eval=100)\n",
        "    print('-- Model Report --')\n",
        "    print('XGBoost Accuracy: '+str(accuracy_score(sk_model.predict(training_data['X_test']), training_data['y_test'])))\n",
        "    print('XGBoost F1-Score (Micro): '+str(f1_score(sk_model.predict(training_data['X_test']),training_data['y_test'],average='micro')))\n",
        "    plot_compare(metrics,store,epochs)\n",
        "    features = num_cols\n",
        "    f, ax = plt.subplots(figsize=(10,5))\n",
        "    plot = sns.barplot(x=features, y=sk_model.feature_importances_)\n",
        "    ax.set_title('Feature Importance')\n",
        "    plot.set_xticklabels(plot.get_xticklabels(),rotation='vertical')\n",
        "    plt.show()"
      ],
      "metadata": {
        "id": "FdCOkbWIEdTC"
      },
      "execution_count": null,
      "outputs": []
    },
    {
      "cell_type": "code",
      "source": [
        "from xgboost.sklearn import XGBClassifier\n",
        "#initial model\n",
        "xgb1 = XGBClassifier(learning_rate=0.1,\n",
        "                    n_estimators=1000,\n",
        "                    max_depth=5,\n",
        "                    min_child_weight=1,\n",
        "                    gamma=0,\n",
        "                    subsample=0.8,\n",
        "                    colsample_bytree=0.8,\n",
        "                    objective='multi:softmax',\n",
        "                    nthread=4,\n",
        "                    num_class=9,\n",
        "                    seed=24)"
      ],
      "metadata": {
        "id": "RqIGrYObGv4y"
      },
      "execution_count": null,
      "outputs": []
    },
    {
      "cell_type": "code",
      "source": [
        "fitXgb(xgb1, training_data)\n"
      ],
      "metadata": {
        "colab": {
          "base_uri": "https://localhost:8080/",
          "height": 1000
        },
        "id": "doLDM-wnGweT",
        "outputId": "d8728bf5-acf0-4772-f900-16375310f523"
      },
      "execution_count": null,
      "outputs": [
        {
          "output_type": "stream",
          "name": "stdout",
          "text": [
            "Fitting model...\n",
            "Fitting done!\n",
            "[0]\ttrain-mlogloss:2.09265\ttrain-merror:0.542189\n",
            "[100]\ttrain-mlogloss:1.10019\ttrain-merror:0.438355\n",
            "[200]\ttrain-mlogloss:1.00021\ttrain-merror:0.389416\n",
            "[299]\ttrain-mlogloss:0.933533\ttrain-merror:0.3565\n",
            "-- Model Report --\n",
            "XGBoost Accuracy: 0.6602150046789765\n",
            "XGBoost F1-Score (Micro): 0.6602150046789765\n"
          ]
        },
        {
          "output_type": "display_data",
          "data": {
            "text/plain": [
              "<Figure size 432x432 with 1 Axes>"
            ],
            "image/png": "[encoded data removed]"
          },
          "metadata": {
            "needs_background": "light"
          }
        },
        {
          "output_type": "display_data",
          "data": {
            "text/plain": [
              "<Figure size 432x432 with 1 Axes>"
            ],
            "image/png": "[encoded data removed]"
          },
          "metadata": {
            "needs_background": "light"
          }
        },
        {
          "output_type": "display_data",
          "data": {
            "text/plain": [
              "<Figure size 720x360 with 1 Axes>"
            ],
            "image/png": "[encoded data removed]"
          },
          "metadata": {
            "needs_background": "light"
          }
        }
      ]
    },
    {
      "cell_type": "code",
      "source": [
        "pred_test = xgb1.predict(X_test)\n",
        "pred_train = xgb1.predict(X_train)\n",
        "print('Train Accuracy: ', accuracy_score(y_train, pred_train))\n",
        "print('Test Accuraccy: ', accuracy_score(y_test, pred_test))\n"
      ],
      "metadata": {
        "id": "TsHbsN93wAgr"
      },
      "execution_count": null,
      "outputs": []
    },
    {
      "cell_type": "code",
      "source": [
        "from sklearn.metrics import classification_report\n",
        "print('Classification Report:')\n",
        "print(classification_report(y_test,pred_test))"
      ],
      "metadata": {
        "colab": {
          "base_uri": "https://localhost:8080/"
        },
        "id": "KZWk4yB6P7Fx",
        "outputId": "dcba19ab-3418-4e02-e9d4-e4df0969ae4a"
      },
      "execution_count": null,
      "outputs": [
        {
          "output_type": "stream",
          "name": "stdout",
          "text": [
            "Classification Report:\n",
            "              precision    recall  f1-score   support\n",
            "\n",
            "           1       0.74      0.74      0.74      8801\n",
            "           2       0.61      0.76      0.67     12539\n",
            "           3       0.55      0.41      0.47      6666\n",
            "           4       0.53      0.25      0.34      3968\n",
            "           5       0.65      0.79      0.71      6907\n",
            "           6       0.89      0.75      0.81      4932\n",
            "\n",
            "    accuracy                           0.66     43813\n",
            "   macro avg       0.66      0.62      0.63     43813\n",
            "weighted avg       0.66      0.66      0.65     43813\n",
            "\n"
          ]
        }
      ]
    },
    {
      "cell_type": "code",
      "source": [
        "# retrieve performance metrics\n",
        "results = xgb1.evals_result()\n",
        "epochs = len(results['validation_0']['error'])\n",
        "x_axis = range(0, epochs)\n",
        "fig, ax = plt.subplots(1, 2, figsize=(15,5))\n",
        "# plot auc\n",
        "ax[0].plot(x_axis, results['validation_0']['auc'], label='Train')\n",
        "ax[0].plot(x_axis, results['validation_1']['auc'], label='Test')\n",
        "ax[0].legend()\n",
        "ax[0].set_title('XGBoost AUC-ROC')\n",
        "ax[0].set_ylabel('AUC-ROC')\n",
        "ax[0].set_xlabel('N estimators')\n",
        "# plot classification error\n",
        "ax[1].plot(x_axis, results['validation_0']['error'], label='Train')\n",
        "ax[1].plot(x_axis, results['validation_1']['error'], label='Test')\n",
        "ax[1].legend()\n",
        "ax[1].set_title('XGBoost Classification Error')\n",
        "ax[1].set_ylabel('Classification Error')\n",
        "ax[1].set_xlabel('N estimators')\n",
        "plt.show()\n",
        "plt.tight_layout()"
      ],
      "metadata": {
        "id": "bKphfEPBxNA5"
      },
      "execution_count": null,
      "outputs": []
    },
    {
      "cell_type": "code",
      "source": [
        "def getTrainScores(gs):\n",
        "    results = {}\n",
        "    runs = 0\n",
        "    for x,y in zip(list(gs.cv_results_['mean_test_score']), gs.cv_results_['params']):\n",
        "        results[runs] = 'mean:' + str(x) + 'params' + str(y)\n",
        "        runs += 1\n",
        "    best = {'best_mean': gs.best_score_, \"best_param\":gs.best_params_}\n",
        "    return results, best"
      ],
      "metadata": {
        "id": "V6rh1L3XGwze"
      },
      "execution_count": null,
      "outputs": []
    },
    {
      "cell_type": "code",
      "source": [
        "param_test1 = {\n",
        " 'max_depth':range(3,10,2),\n",
        " 'min_child_weight':range(1,6,2)\n",
        "}\n",
        "#metrics to consider: f1_micro, f1_macro, roc_auc_ovr\n",
        "gsearch1 = GridSearchCV(estimator = xgb1, param_grid = param_test1, scoring='f1_micro',n_jobs=-1,verbose = 10, cv=5)\n",
        "gsearch1.fit(X_train, y_train)"
      ],
      "metadata": {
        "id": "cXs2lxH5Gw6a"
      },
      "execution_count": null,
      "outputs": []
    },
    {
      "cell_type": "code",
      "source": [
        "##best parameters\n",
        "getTrainScores(gsearch1)\n"
      ],
      "metadata": {
        "id": "2kF1Y3xaGxAD"
      },
      "execution_count": null,
      "outputs": []
    },
    {
      "cell_type": "code",
      "source": [
        "xgb2 = XGBClassifier(learning_rate=0.1,\n",
        "                    n_estimators=1000,\n",
        "                    max_depth=9,\n",
        "                    min_child_weight=1,\n",
        "                    gamma=0,\n",
        "                    subsample=0.8,\n",
        "                    colsample_bytree=0.8,\n",
        "                    objective='multi:softmax',\n",
        "                    nthread=4,\n",
        "                    num_class=6,\n",
        "                    seed=27)\n",
        "\n"
      ],
      "metadata": {
        "id": "3kZ8sBPBGxGW"
      },
      "execution_count": null,
      "outputs": []
    },
    {
      "cell_type": "code",
      "source": [
        "fitXgb(xgb2, training_data)"
      ],
      "metadata": {
        "id": "p8v9o13eSd1O"
      },
      "execution_count": null,
      "outputs": []
    },
    {
      "cell_type": "code",
      "source": [
        "xgb3 = XGBClassifier(learning_rate=0.1,\n",
        "                    n_estimators=1000,\n",
        "                    max_depth=9,\n",
        "                    min_child_weight=1,\n",
        "                    reg_alpha=0.01,\n",
        "                    gamma=0,\n",
        "                    subsample=0.8,\n",
        "                    colsample_bytree=0.8,\n",
        "                    objective='multi:softmax',\n",
        "                    nthread=4,\n",
        "                    num_class=6,\n",
        "                    seed=27)\n",
        "\n",
        "fitXgb(xgb3, training_data)"
      ],
      "metadata": {
        "id": "Uba1GBLaSe4C"
      },
      "execution_count": null,
      "outputs": []
    },
    {
      "cell_type": "code",
      "source": [],
      "metadata": {
        "id": "oS0BTMhsp-9p"
      },
      "execution_count": null,
      "outputs": []
    }
  ]
}
